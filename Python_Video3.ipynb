{
 "cells": [
  {
   "cell_type": "markdown",
   "metadata": {},
   "source": [
    "<div class=\"alert alert-block alert-info\">\n",
    "These blue boxes contain instructions for you to follow, or stuff for you to do\n",
    "<h2>How to access this Jupyter notebook</h2>\n",
    "\n",
    "* <b>Step 1</b>: Open a web browser,  and go to [this page](https://mnf144.csc.warwick.ac.uk:8987/module/CH274), \n",
    "* <b>Step 2</b>: Enter your SCRTP username and password and press the \"Start Server\" button.<br>\n",
    "* <b>Step 3</b>: Wait (it could take a few minutes) until the blue blox says \"Jupyter notebook server running!\". At that point, click on the weblink below said message.<br>\n",
    "* <b>Step 4</b>: Select the Jupyter Notebook you want to work on. Remember to make a copy of the orginal notebook (which is read only). To do so, in the toolbar on top of the notebook, select File and then Make a Copy <br>\n",
    "* <b>Step 5</b>: You're all set! <br>\n",
    "* <b>Step 6</b>: <font color=\"red\">When you are done, remember to click the \"Stop Server\" button in the launcher web browser tab.</font> Please do, it's really quite important. <br>\n",
    "<b> Remember: </b> You can access your copy of the Notebook at any time from any device off and on campus by going through the same steps on e.g. your laptop - all the changes you have made will be saved and synced! <br>\n",
    "<div/>"
   ]
  },
  {
   "cell_type": "markdown",
   "metadata": {},
   "source": [
    "# Plotting With Matplotlib"
   ]
  },
  {
   "cell_type": "markdown",
   "metadata": {},
   "source": [
    "# 0.1. Introduction.\n",
    "Many Python packages can be used for plotting data (including, but not limited to, Bokeh, Seaborn, ggplot, Plotly, $etc.$), but [Matplotlib](https://matplotlib.org) is probably the most popular. It is a hugely versatile package, allowing users to produce high-quality figures suitable for publication in journals, books, and theses. This computational workshop will introduce some of the functionality of the Matplotlib module, and builds upon your existing knowledge of the NumPy module,loop structures, and file input/output syntax within Python.\n",
    "\n",
    "Sections 1. and 2. introduce the core concepts of Matplotlib plotting (including file input/output). Much of this material may be familiar to you from your previous CH160, CH273, and CH274 Python workshops. Section 3 onwards deals with more advanced plotting techniques, which allow you to generate more complicated plots."
   ]
  },
  {
   "cell_type": "markdown",
   "metadata": {},
   "source": [
    "\n",
    "## Loading the required Python packages\n",
    "As with all Python programming, the first step is load any optional modules we will need using the ``import`` command. For this workshop we will use both the ``matplotlib.pyplot`` module, and NumPy (the fundamental Python package for scientific computing). To save having to type out their full names everytime we use them, we will give these modules the aliases ``plt`` (Matplotlib) and ``np`` (NumPy):"
   ]
  },
  {
   "cell_type": "code",
   "execution_count": null,
   "metadata": {},
   "outputs": [],
   "source": [
    "#import Numpy (np) and Matplotlib (plt)\n",
    "import matplotlib.pyplot as plt\n",
    "import numpy as np"
   ]
  },
  {
   "cell_type": "markdown",
   "metadata": {},
   "source": [
    "# 1. Basic plotting using the pylab interface\n",
    "# 1.1. Line and scatter plots\n",
    "\n",
    "Simple line and scatter plots of data can be created using a single line of code in Matplotlib (although a second line, ``plt.show()``, is needed in order to actually see the plot).\n",
    "<ul>\n",
    "    <li> <code>plt.plot('x','y')</code> - line plot of 'x' <i>vs.</i> 'y'  </li>\n",
    "    <li> <code>plt.scatter('x','y')</code> - scatter plot of points defined by the coordinates ('x','y') </li>\n",
    "</ul>\n",
    "\n",
    "In all cases ``'x'`` and ``'y'`` are lists or arrays of numbers <i>of the same length</i> (arrays are more versatile with regards to mathematical maniplation). Alternatively we could use a combination of a list and an array, provided they are the same length. For example,\n",
    "\n",
    "### Line plot:"
   ]
  },
  {
   "cell_type": "code",
   "execution_count": null,
   "metadata": {},
   "outputs": [],
   "source": [
    "#LINE PLOT EXAMPLE - y=x^2\n",
    "\n",
    "#Create our data for plotting. In this example, both the x- and y-data (which \n",
    "#we have called x_line and y_line, respectively) are arrays containing seven numbers.\n",
    "\n",
    "#Create an array of numbers using the command 'np.array([a,b,c,...])', or 'np.array(existingListName)'\n",
    "#to act as our x-values\n",
    "x_line=np.array([0, 0.5, 1, 1.5, 2, 2.5, 3])\n",
    "\n",
    "#create a new array, y_line, where each element is the square of the corresponding value in x_line.\n",
    "y_line=x_line**2 #note that python uses the syntax ** rather than ^ to raise a number to a power\n",
    "\n",
    "#Plot the data with points connected by straight lines\n",
    "plt.plot(x_line,y_line)\n",
    "\n",
    "#Display the plot on screen\n",
    "plt.show()"
   ]
  },
  {
   "cell_type": "markdown",
   "metadata": {},
   "source": [
    "### Scatter plot:"
   ]
  },
  {
   "cell_type": "code",
   "execution_count": null,
   "metadata": {},
   "outputs": [],
   "source": [
    "#SCATTER PLOT EXAMPLE - pairs (x,y) of numbers \n",
    "\n",
    "#Create the data (called x_scatter and y_scatter) - lists containing 10 values each\n",
    "x_scatter=[0.65, 0.53, 0.92, 0.47, 0.49, 0.60, 0.54, 0.62, 0.32, 0.72]\n",
    "y_scatter=[0.35, 0.11, 0.56, 0.55, 0.86, 0.29, 0.53, 0.89, 0.10, 0.29]\n",
    "\n",
    "#Plot the data as a scatter plot of the (x,y) pairs\n",
    "plt.scatter(x_scatter,y_scatter)\n",
    "\n",
    "#Display the plot on screen\n",
    "plt.show()"
   ]
  },
  {
   "cell_type": "markdown",
   "metadata": {},
   "source": [
    "<div class=\"alert alert-block alert-info\">\n",
    "\n",
    "### <font>Task 1:</font>\n",
    "Produce a line plot of $y=x^{3}$ for $x=-3,\\,-2,\\,-1,\\,0,\\,1,\\,2,\\,3$\n",
    "<div/>"
   ]
  },
  {
   "cell_type": "code",
   "execution_count": null,
   "metadata": {},
   "outputs": [],
   "source": [
    "#TASK 1 ANSWER:\n"
   ]
  },
  {
   "cell_type": "markdown",
   "metadata": {},
   "source": [
    "## Plotting multiple datasets\n",
    "\n",
    "If we want to include more than one line (or set of scatter points) in a plot, we simply call ``plt.plot(x,y)`` for each set of data. The different datasets will automatically be plotted using different colours. "
   ]
  },
  {
   "cell_type": "code",
   "execution_count": null,
   "metadata": {},
   "outputs": [],
   "source": [
    "#MULTIPLE LINE PLOT EXAMPLE - y=x^2 and y=(x^2)+2\n",
    "\n",
    "#Create our data for plotting. In this example, we have two sets of y-data (y_multi_1 and y_multi_2) both \n",
    "#of which share the same x-data (x_multi)\n",
    "x_multi=[0, 0.5, 1, 1.5, 2, 2.5, 3]\n",
    "\n",
    "#Because I defined x_multi as a list rather than an array it cannot be manipulated directly, therefore we need to\n",
    "#write out each of the elements of y_multi_1 and y_multi_2 explicitly (or set up a loop to access each element in\n",
    "#turn an do the manipulations) - this is one of the reasons why arrays are in general a more versatile data structure\n",
    "y_multi_1=[0, 0.25, 1, 2.25, 4, 6.25, 9] #y=x^2\n",
    "y_multi_2=[2, 2.25, 3, 4.25, 6, 8.25, 11] #y=(x^2)+2\n",
    "\n",
    "#Plot the lines by calling plt.plot(x,y) twice, once for y=y_multi_1 and once for y=y_multi_2\n",
    "plt.plot(x_multi,y_multi_1)\n",
    "plt.plot(x_multi,y_multi_2)\n",
    "\n",
    "#Display the plot on screen\n",
    "plt.show()"
   ]
  },
  {
   "cell_type": "markdown",
   "metadata": {},
   "source": [
    "<div class=\"alert alert-block alert-info\">\n",
    "\n",
    "### <font>Task 2:</font>\n",
    "Repeat task 1 (plot $y=x^{3}$ for $x=-3,\\,-2,\\,-1,\\,0,\\,1,\\,2,\\,3$) but add a plot of $y=x^{2}$ (use the same $x$-values for both plots) onto the figure\n",
    "\n",
    "<b>Hint</b>:\n",
    "\n",
    "If you define your x-values as an array rather than a list, it becomes quicker and easier to generate your two sets of y-data\n",
    "<div/>"
   ]
  },
  {
   "cell_type": "code",
   "execution_count": null,
   "metadata": {},
   "outputs": [],
   "source": [
    "#TASK 2 ANSWER:\n"
   ]
  },
  {
   "cell_type": "markdown",
   "metadata": {},
   "source": [
    "## Automatically generating arrays using numpy\n",
    "\n",
    "A useful feature of the numpy module is the presence of some built in commands which allow us to generate regularly-spaced arrays of $x$-coordinates automatically (in all previous examples we have had to enter these laboriously by hand). The most useful command is ``np.linspace(start, stop, n)``, which is called with three arguments (the things we enter in the parentheses). In order, these arguments are:\n",
    "<ul>\n",
    "    <li> <code>start</code> The first number in the array</li>\n",
    "    <li> <code>stop</code> The last number in the array </li>\n",
    "    <li> <code>n</code> The total number of values in the array - <code>linspace</code> will automatically make these evenly spaced </li>\n",
    "</ul>\n",
    "\n",
    "For example, suppose we wished to automatically create an array of 1001 numbers ranging in value between 0 and 10 (inclusive), the required line of code is ``np.linspace(0, 10, 1001)``:"
   ]
  },
  {
   "cell_type": "code",
   "execution_count": null,
   "metadata": {},
   "outputs": [],
   "source": [
    "#AUTOMATICALLY GENERATING AN ARRAY CONTAIING N EVENLY-SPACED VALUES\n",
    "\n",
    "#Create an array of 1001 numbers starting with 0 and ending with 10 \n",
    "autoArray=np.linspace(0, 10, 1001)\n",
    "\n",
    "#Check to see what our code has done using the print command\n",
    "print('Number of values:',len(autoArray))\n",
    "print('First five numbers:',autoArray[0:5]) #[0:5] notation displays elements 0-4 of the corresponding array\n",
    "print('Middle five numbers:',autoArray[498:503])\n",
    "print('Last five numbers:',autoArray[996:1001])"
   ]
  },
  {
   "cell_type": "markdown",
   "metadata": {},
   "source": [
    "Because the output of the ``np.linspace()`` command is an array, we can easily use it as the independent variable when plotting mathematical functions - our plots of $y=x^{2}$ and $y=x^{3}$ (tasks 1 & 2) need never look so bad again!"
   ]
  },
  {
   "cell_type": "code",
   "execution_count": null,
   "metadata": {},
   "outputs": [],
   "source": [
    "#USING ARRAYS TO PLOT MATHEMATICAL FUNCTIONS - y=sin(x) & y=sin^2(x)\n",
    "\n",
    "#Generate an array of 128 x-values evenly spaced between -2*pi and 2*pi inclusive\n",
    "x_values=np.linspace(-2*np.pi, 2*np.pi, 128)\n",
    "\n",
    "#Use the values in 'x_values' as the independent variable in the functions y=sin(x) and y=sin^2(x)\n",
    "Sin=np.sin(x_values)\n",
    "SinSqr=np.sin(x_values)**2 \n",
    "\n",
    "#Plot the two functions\n",
    "plt.plot(x_values,Sin)\n",
    "plt.plot(x_values,SinSqr)\n",
    "\n",
    "#Display the plot on screen\n",
    "plt.show()"
   ]
  },
  {
   "cell_type": "markdown",
   "metadata": {},
   "source": [
    "<div class=\"alert alert-block alert-info\">\n",
    "\n",
    "### <font>Task 3:</font>\n",
    "The sinc function is defined as:\n",
    "    $$\\textrm{sinc}(x)=\\frac{\\sin(x)}{x}$$\n",
    "Plot this function over the range $-5\\pi\\leq x\\leq 5\\pi$ using 256 points.\n",
    "\n",
    "<b>Useful commands</b>:\n",
    "\n",
    "<code>np.pi</code> - $\\pi$\n",
    "\n",
    "<code>np.sin(x)</code> - returns the sine of 'x'\n",
    "<div/>\n"
   ]
  },
  {
   "cell_type": "code",
   "execution_count": null,
   "metadata": {},
   "outputs": [],
   "source": [
    "#TASK 3 ANSWER:\n"
   ]
  },
  {
   "cell_type": "markdown",
   "metadata": {},
   "source": [
    "<hr style=\"border: 1px solid black;\" />\n",
    "\n",
    "### Summary of commands introduced in section 1.1.\n",
    "\n",
    "``plt.plot(x,y)`` - line plot of x vs. y, can be used multiple times to build a single plot\n",
    "\n",
    "``plt.scatter(x,y)`` - scatter plot of (x,y) pairs, can be used multiple times to build a single plot\n",
    "\n",
    "``plt.show()`` - display the plot on screen\n",
    "\n",
    "``np.array()`` - either create a new array, or convert an existing list into an array\n",
    "\n",
    "``np.linspace(start,stop,n)`` - create a regularly spaced array of $n$ numbers between the $start$ and $stop$ values (inclusive) \n",
    "\n",
    "<hr style=\"border: 1px solid black;\" />"
   ]
  },
  {
   "cell_type": "markdown",
   "metadata": {},
   "source": [
    "# 1.2. Customising Your Plots\n",
    "\n",
    "The above sections have hopefully taught you how to create simple plots using the Matplotlib package in python. Such plots are extremely useful when you want to quickly analyse data sets or explore the behaviour of mathematical/scientific functions (I do this all the time). Unfortunately, if we want to produce a plot suitable for a report there are a few more steps we need to go through.\n",
    "\n",
    "## Axis labels\n",
    "Any plot you produce for a report/presentation must have its axes fully labelled (including units where appropriate). In Matplotlib, the commands you need to include to do this are ``plt.xlabel('x-axis label')`` and ``plt.ylabel('y-axis label')`` for the $x$- and $y$- axes, respectively."
   ]
  },
  {
   "cell_type": "code",
   "execution_count": null,
   "metadata": {},
   "outputs": [],
   "source": [
    "#AXES LABELS EXAMPLE - y=x*sin(x)\n",
    "\n",
    "#Create our data for plotting. In this example, we are plotting the function y=x*sin(x)\n",
    "#over the range x=-2 pi to x=2 pi\n",
    "x_data=np.linspace(-2*np.pi,2*np.pi,128)\n",
    "x_sinx=x_data*np.sin(x_data)\n",
    "\n",
    "#Plot the data with points connected by straight lines\n",
    "plt.plot(x_data,x_sinx)\n",
    "\n",
    "#Include axes labels \n",
    "plt.xlabel('x-axis title')\n",
    "plt.ylabel('y-axis title')\n",
    "\n",
    "#Display the plot on screen\n",
    "plt.show()"
   ]
  },
  {
   "cell_type": "markdown",
   "metadata": {},
   "source": [
    "## Plot legends\n",
    "\n",
    "If we include more than one trace on a plot, we should add a legend so the reader can tell the two datasets apart. This is a two-stage process in Matplotlib:\n",
    "<ol>\n",
    "  <li>Include an extra argument <code>label='plot label'</code> in each <code>plt.plot()</code> command</li>\n",
    "    \n",
    "  <li>Create the plot legend by running <code>plt.legend()</code></li>\n",
    "</ol>  "
   ]
  },
  {
   "cell_type": "code",
   "execution_count": null,
   "metadata": {},
   "outputs": [],
   "source": [
    "#PLOT LEGEND EXAMPLE - y=x*sin(x) & y=(x^2)*sin(x)\n",
    "\n",
    "#Create our data for plotting. In this example, we are plotting two functions \n",
    "#over the range x=-2 pi to x=2 pi, y=x*sin(x) and y=(x^2)*sin(x)\n",
    "x_data=np.linspace(-2*np.pi, 2*np.pi, 128)\n",
    "\n",
    "sinx=x_data*np.sin(x_data) #y=x*sin(x)\n",
    "x2_sinx=(x_data**2)*np.sin(x_data) #y=(x^2)*sin(x)\n",
    "\n",
    "#Plot the data with points connected by straight lines, make sure to \n",
    "#include the extra argument label='plot label' in the plt.plot() command\n",
    "plt.plot(x_data, sinx, label='x sin(x)')\n",
    "plt.plot(x_data, x2_sinx, label='x^2 sin(x)')\n",
    "\n",
    "#Include axes labels \n",
    "plt.xlabel('x-axis title')\n",
    "plt.ylabel('y-axis title')\n",
    "\n",
    "#Include plot legend\n",
    "plt.legend()\n",
    "\n",
    "#Display the plot on screen\n",
    "plt.show()"
   ]
  },
  {
   "cell_type": "markdown",
   "metadata": {},
   "source": [
    "<div class=\"alert alert-block alert-info\">\n",
    "\n",
    "### <font>Task 4:</font>\n",
    "Consider the following first-order chemical reaction: \n",
    "    $$[A]\\xrightarrow{k}[B]$$\n",
    "    \n",
    "If we assume that at time $t=0$, $[A]=[A]_{0}$ and $[B]=0$, then the time dependent concentrations of $A$ and $B$ are given by:\n",
    "     $$[A]=[A]_{0}e^{-kt}\\\\$$\n",
    "    $$[B]=[A]_{0}\\left(1-e^{-kt}\\right)$$\n",
    "    \n",
    "Prepare plots of the time-dependent populations of $A$ and $B$ over the range $t=0-10$ s. Use the following parameters:\n",
    "$$\\begin{align*}\\\\\n",
    "    [A]_{0}&=2\\,\\textrm{mol dm}^{-3}\\\\[6pt]\n",
    "    k&=0.5\\,\\textrm{s}^{-1}\\\\\n",
    "\\end{align*}$$\n",
    "\n",
    "Label your axes correctly (including units), and include a plot legend.\n",
    "\n",
    "<b>Useful commands</b>:\n",
    "\n",
    "<code>np.exp(x)</code> - returns the value of $e^{x}$\n",
    "<div/>"
   ]
  },
  {
   "cell_type": "code",
   "execution_count": null,
   "metadata": {},
   "outputs": [],
   "source": [
    "#TASK 4 ANSWER:\n"
   ]
  },
  {
   "cell_type": "markdown",
   "metadata": {},
   "source": [
    "## Manually setting plot range\n",
    "\n",
    "By default, Matplotlib will set the $x$- and $y$- plot ranges so as to include all the data. Sometimes you are interested in a subset of the data, and want to focus on a small area of the overall plot. In order to do this, Matplotlib allows you to manually set the range of plot axes using the ``plt.xlim(x_min,x_max)`` and ``plt.ylim(y_min,y_max)`` commands."
   ]
  },
  {
   "cell_type": "code",
   "execution_count": null,
   "metadata": {},
   "outputs": [],
   "source": [
    "#MANUALLY SETTING THE PLOT RANGE - y=x^2+3x-1\n",
    "\n",
    "#Create our data for plotting. In this example, we are going to create an array of x-values  \n",
    "#covering the range x=-10 to x=10, and use  this to create an array of values corresponding to the\n",
    "# quadratic function y=x^2+3x-1\n",
    "x_data=np.linspace(-10,10,128)\n",
    "y_data=x_data**2 + 3*x_data - 1\n",
    "\n",
    "#prepare a plot of the data\n",
    "plt.plot(x_data,y_data,label='x^2 + 3x – 1')\n",
    "\n",
    "#Manually change the x- and y- axis ranges so we can focus on where the plot line crosses the x-axis \n",
    "plt.xlim(-4.5,1.5)\n",
    "plt.ylim(-3.5,3.5)\n",
    "\n",
    "#Lets do the whole thing properly and include axis labels and a plot legend\n",
    "plt.xlabel('x')\n",
    "plt.ylabel('y')\n",
    "plt.legend()\n",
    "\n",
    "plt.show()"
   ]
  },
  {
   "cell_type": "markdown",
   "metadata": {},
   "source": [
    "<div class=\"alert alert-block alert-info\">\n",
    "\n",
    "### <font>Task 5:</font>\n",
    "Plot graphs of $y=e^{-x}$ and $y=\\dfrac{x^{3}}{4}$ over the range $0\\leq x\\leq4$. Set the $x-$ and $y-$axis ranges so as to focus on the region where the two lines cross. Remember to label your axes and include a plot legend.\n",
    "   \n",
    "<div/>"
   ]
  },
  {
   "cell_type": "code",
   "execution_count": null,
   "metadata": {},
   "outputs": [],
   "source": [
    "#TASK 5 ANSWER:\n"
   ]
  },
  {
   "cell_type": "markdown",
   "metadata": {},
   "source": [
    "<hr style=\"border: 1px solid black;\" />\n",
    "\n",
    "### Summary of commands introduced in section 1.2.\n",
    "\n",
    "``plt.xlabel('x-axis label)`` - labels the x-axis\n",
    "\n",
    "``plt.ylabel('y-axis label)`` - labels the y-axis\n",
    "\n",
    "``plt.legend()`` - creates a plot legend (requires extra <code>label='plot label'</code> argument in initial <code>plt.plot()</code> command)\n",
    "\n",
    "``plt.xlim(x_min,x_max)`` - sets x-axis plot range between x_min and x_max\n",
    "\n",
    "``plt.ylim(y_min,y_max)`` - sets y-axis plot range between y_min and y_max\n",
    "\n",
    "<hr style=\"border: 1px solid black;\" />"
   ]
  },
  {
   "cell_type": "markdown",
   "metadata": {},
   "source": [
    "# 1.3. Further Customisation Options\n",
    "\n",
    "There are many other options we can change to fine tune the appearence of our plots, including the width and colour of the lines and the line style (<i>e.g.</i> solid, dashed, dots, <i>etc.</i>). We can also change the font (size and family) of the text used in the plot legend, axis markers and labels. With a little effort it is possible to create very high quality plots. \n",
    "\n",
    "## Changing line appearance\n",
    "The various options for the appearance of the lines are set <i>via</i> optional arguments in the ``plt.plot()`` command. The default plot style is a solid blue line (html hex code #1f77b4), drawn with a weight of 1.5 pt. We can change these defaults using following arguments:\n",
    "<ul>\n",
    "    <li> <code>c='line colour'</code> - set line colour</li>\n",
    "    <li>  <code>lw=x.x</code> - set line weight to x.x pt</li>\n",
    "    <li> <code>ls='line style'</code> - set line style</li>\n",
    "</ul>\n",
    "\n",
    "The string used for the ``c='line color'`` command is often either a [named colour](https://matplotlib.org/3.1.0/gallery/color/named_colors.html), or an [html hex code](https://htmlcolors.com) (which are a sequence of letters/numbers looking like ``#6e4973``), although [other formats are supported](https://matplotlib.org/3.1.1/api/colors_api.html). \n",
    "\n",
    "Simple line styles are plotted using the strings ``'solid'``, ``'dashed'``, ``'dotted'``, and ``'dashdot'``, but Matplotlib allows [extensive customisation](https://matplotlib.org/3.1.0/gallery/lines_bars_and_markers/linestyles.html) beyond these."
   ]
  },
  {
   "cell_type": "code",
   "execution_count": null,
   "metadata": {},
   "outputs": [],
   "source": [
    "#CHANGING THE APPEARANCE OF LINES\n",
    "x=np.linspace(0,4,128)\n",
    "y=2*x\n",
    "\n",
    "#make the plot a little bigger\n",
    "plt.figure(figsize=(10,6))\n",
    "\n",
    "#plot four lines, using different widths, colours, and linestyles for each\n",
    "plt.plot(x,y,label='default')\n",
    "plt.plot(x,y+1,c='coral',lw=4,ls='dashed', label='4pt, coral, dashed')\n",
    "plt.plot(x,y+2,c='#5b3069',lw=3,ls='dashdot', label='3pt, \"Warwick Aubergine\", dash-dot')\n",
    "plt.plot(x,y+3,c='#89102c',lw=1.5,ls='dotted', label='3pt, \"Warwick Ruby-red\", dotted')\n",
    "\n",
    "#label the axes\n",
    "plt.xlabel('x')\n",
    "plt.ylabel('y')\n",
    "\n",
    "#CHange the y-scaling to make room for the legend\n",
    "plt.ylim(-0.5,14)\n",
    "\n",
    "#include a legend, and display the plot\n",
    "plt.legend()\n",
    "plt.show()"
   ]
  },
  {
   "cell_type": "markdown",
   "metadata": {},
   "source": [
    "## Final adjustments\n",
    "Using a few more lines of code, we can increase the size of the axis labels and legends, change the font, include grid lines (if desired) and produce a near-publication-quality plot. \n",
    "\n",
    "For example, the below codebox simulates the time-dependent populations of three chemical species, $A,\\,B,$ and $C$, that are linked by consecutive first-order reactions, and generates a high-quality output:\n",
    "\n",
    "$$[A]\\xrightarrow{k_{1}}[B]\\xrightarrow{k_{2}}[C]\\\\[1pt]$$\n",
    "\n",
    "We can manually change the appearance of plots (colour, symbol, $etc.$) through optional instructions:"
   ]
  },
  {
   "cell_type": "code",
   "execution_count": null,
   "metadata": {},
   "outputs": [],
   "source": [
    "#set rate coefficients - saves having to type these numbers out repeatedly later on, an allows us to change \n",
    "#the simulation conditions rapidly\n",
    "k1=1.1\n",
    "k2=0.9\n",
    "\n",
    "#Analytical solutions to the rate equations plotted between t=0-6s\n",
    "t=np.linspace(0,6,128)\n",
    "conc_A=np.exp(-k1*t)\n",
    "conc_B=(k1/(k2-k1))*(np.exp(-k1*t)-np.exp(-k2*t))\n",
    "conc_C=1+(k1*np.exp(-k2*t)-k2*np.exp(-k1*t))/(k2-k1)\n",
    "\n",
    "#Plot all the things!\n",
    "#make the plot a little bigger, in this case a 10\"x6\" (WxH) plot - note that this command must come before \n",
    "#the first plt.plot(...) line to work\n",
    "plt.figure(figsize=(10,6))\n",
    "\n",
    "#plot the three lines with custom colours. The '$...$' stuff in the label command means that we are using\n",
    "#LaTeX formatting in the legend (subscripts in this case)\n",
    "plt.plot(t,conc_A,c='#D9514E',lw=3,label='$[A]_{t}$')\n",
    "plt.plot(t,conc_B,c='#2A2B2D',lw=3,label='$[B]_{t}$') \n",
    "plt.plot(t,conc_C,c='#2DA8D8',lw=3,label='$[C]_{t}$')\n",
    "\n",
    "#Increase the size of the axis labels and use some more Latex typesetting (superscripts)\n",
    "plt.xlabel('Time / s$^{-1}$',fontsize=22)\n",
    "plt.ylabel('Concentration / mol dm$^{-3}$',fontsize=22)\n",
    "plt.tick_params(labelsize=18)\n",
    "\n",
    "#Include light grey gridlines. The command c='0.7'is a quick way of specifying greyscale colours, c='0.0'is black,\n",
    "#c='1.0' is white, intermediate values are shades of grey\n",
    "plt.grid(linestyle='dotted',c='0.7')\n",
    "\n",
    "#include a plot legend, but remove the frame because I don't like it (and this is my workshop...)\n",
    "plt.legend(fontsize=18, frameon=False)\n",
    "plt.show()"
   ]
  },
  {
   "cell_type": "markdown",
   "metadata": {},
   "source": [
    "<hr style=\"border: 1px solid black;\" />\n",
    "\n",
    "### Summary of commands introduced in section 1.3.\n",
    "\n",
    "``c='line colour'`` - set line colour (used as additional argument in <code>plt.plot()</code> command)\n",
    "\n",
    "``lw=x.x`` - set line weight to x.x pt (used as additional argument in <code>plt.plot()</code> command)\n",
    "\n",
    "``ls='line style'`` - set line style (used as additional argument in <code>plt.plot()</code> commands)\n",
    "\n",
    "``plt.figure(figsize=(W,H))`` - set size of the plot in inches (this command must come before the first <code>plt.plot()</code> command)\n",
    "\n",
    "``plt.grid()`` - include grid lines on plot (optional arguments can be used to change the line style and colour of grid lines)\n",
    "\n",
    "<hr style=\"border: 1px solid black;\" />"
   ]
  },
  {
   "cell_type": "markdown",
   "metadata": {},
   "source": [
    "## 1.4. Exporting Plots\n",
    "Oftentimes you want to include a copy of your graph in a report or presentation. Thankfully this is simple to do in Matplotlib. All we need to do is include a single new command in our code:\n",
    "\n",
    "```plt.savefig('filename.extension')```\n",
    "\n",
    "The plot can be exported in several different formats by simply changing the ```.extension``` text. The two most common formats probably are PDF (```.pdf```) and PNG (```.png```). PDF files are vector (line) based, and as such can be manually scaled without loss of quality and can be extensively edited in programs such as Adobe Illustrator or Affinity Designer. PNG files are pixel based and can be placed directly into a Word document (unlike PDFs). However, they cannot have their size changed without reducing image quality - to test this, zoom in on pdf and png images and see what happens... \n",
    "\n",
    "\n",
    "### Important note:\n",
    "You must run ```plt.savefig(...)``` before a ```plt.show()``` command or your exported file will be empty picture. Once the image is printed to screen it is cleared from memory."
   ]
  },
  {
   "cell_type": "code",
   "execution_count": null,
   "metadata": {},
   "outputs": [],
   "source": [
    "#Exporting plot example\n",
    "\n",
    "plt.figure(figsize=(10,6))\n",
    "#generate x data using numpy linspace command \n",
    "x=np.linspace(-3*np.pi,3*np.pi,200) #generate 200 evenly-spaced data points between -3 pi and 3 pi inclusive\n",
    "\n",
    "#Use a For loop to automatically generate labelled plots of x^n sin(x) for n=1,2,3, and 4\n",
    "\n",
    "for n in range(1,5): #the last value isn't included in the loop\n",
    "    y=x**n * np.sin(x)\n",
    "    y/=max(y) #max(y) returns the maximum value in the array 'y', this line therefore normalises all the plots\n",
    "    plt.plot(x,y,label='$x^{}\\sin(x)$'.format(n)) #.format(n) sticks the current value for n into the space defined by the curly brace\n",
    "\n",
    "plt.legend()\n",
    "plt.xlabel(\"x\")\n",
    "plt.ylabel(\"y\")\n",
    "\n",
    "#Save the figure as both a pdf and png file, where we have manually defined the resolution of the png file.\n",
    "#The file is placed in the same folder as the Jupyter notebook\n",
    "plt.savefig('Export_example.pdf')\n",
    "plt.savefig('Export_example.png',dpi=100)\n",
    "plt.show()"
   ]
  },
  {
   "cell_type": "markdown",
   "metadata": {},
   "source": [
    "<div class=\"alert alert-block alert-info\">\n",
    "\n",
    "### <font >Task 6:</font>\n",
    "    \n",
    "Using the code above as a guide (i.e. copy and paste the bits you need and modify where appropriate), prepare and export plots of $y=\\cos(nx)$ over the range $x=-\\pi/2$ to $x=\\pi/2$ and for n=1,2,3, and 4. Save your plots as a pdf file, and as png images with resolutions of 40 dpi and 400 dpi.\n",
    "    \n",
    "<div/>"
   ]
  },
  {
   "cell_type": "code",
   "execution_count": null,
   "metadata": {},
   "outputs": [],
   "source": [
    "#Task 6 answer:\n"
   ]
  },
  {
   "cell_type": "markdown",
   "metadata": {},
   "source": [
    " <hr style=\"border: 1px solid black;\" />\n",
    "\n",
    "### Summary of commands introduced in section 1.4.\n",
    "\n",
    "``plt.savefig('FileName.extension')`` - saves the figure with the supplied filename, and in a format defined by the choice of 'extension'.\n",
    "\n",
    "<hr style=\"border: 1px solid black;\" />"
   ]
  },
  {
   "cell_type": "markdown",
   "metadata": {},
   "source": [
    "# 2. Importing data for plotting\n",
    "Oftentimes we want to graph the data produced during an experiment, rather than plot mathematical functions. This often requires that we are able to read in data from a text file (```.txt```, ```.csv```, and ```.dat``` are common text filetypes). Numpy provides us with several options for reading data from such files.\n",
    "\n",
    "The easiest method is to use ```np.loadtxt('filename')```. This command will load the file specified by the ```'filename'``` argument. If the file to be read is in a different directory from your Jupyter notebook, then you need to include the directory path in this argument. By default, ```np.loadtxt``` looks for whitespace (spaces, tabs) to signify the separation between columns in the data. To read a comma-separated (```.csv```) file we need to include the optional argument ```delimiter=','```."
   ]
  },
  {
   "cell_type": "code",
   "execution_count": null,
   "metadata": {},
   "outputs": [],
   "source": [
    "#File input example:\n",
    "#Read in 'IRdata.csv' from 'STUFF' folder (in the same directory as python notebook)\n",
    "#when reading a .csv file we need to inculde the delimiter=',' argument\n",
    "data=np.loadtxt('./STUFF/IRdata.csv',delimiter=',') \n",
    "\n",
    "#(Optional) check the dimensions of the array and print it to check it has read in correctly\n",
    "print(data.shape) #returns dimensions of the array as (rows,columns)\n",
    "print(data)"
   ]
  },
  {
   "cell_type": "markdown",
   "metadata": {},
   "source": [
    "Once we have loaded the data, we need to select the individual columns by <i>slicing</i> the array:"
   ]
  },
  {
   "cell_type": "code",
   "execution_count": null,
   "metadata": {},
   "outputs": [],
   "source": [
    "#Slice the array 'data' to create our x- ('wavenumber') and y- ('Intensity') values for plotting:\n",
    "wavenumber=data[:,0] #[:,0] selects everything in the first column\n",
    "Intensity=data[:,1] #everything in the second column\n",
    "\n",
    "#(Optional) Print the first three elements of 'wavenumber' and 'Intensity' to check things have worked as expected\n",
    "print('Wavenumber =',wavenumber[:3])\n",
    "print('Intensity =',Intensity[:3])"
   ]
  },
  {
   "cell_type": "markdown",
   "metadata": {},
   "source": [
    "<div class=\"alert alert-block alert-info\">\n",
    "    \n",
    "### <font >Task 7:</font>\n",
    "Create a plot of Intensity <i>vs.</i> wavenumber. Remember to label the axes.\n",
    "\n",
    "<div/>"
   ]
  },
  {
   "cell_type": "code",
   "execution_count": null,
   "metadata": {},
   "outputs": [],
   "source": [
    "#Task 7 answer:\n"
   ]
  },
  {
   "cell_type": "markdown",
   "metadata": {},
   "source": [
    "### Files with column headers\n",
    "\n",
    "One of the major drawbacks of the ```np.loadtxt()``` approach is that numpy has a temper tantrum if your file contains non-numerical entries (<i>e.g.</i> column headers). The file 'deviousHeaders.csv' includes such non-numerical entries, and will therefore stubbornly refuse to be loaded by numpy. Instead it will spit out the following error message:\n",
    "\n",
    "``ValueError: could not convert string to float: 'Wavenumber'``"
   ]
  },
  {
   "cell_type": "markdown",
   "metadata": {},
   "source": [
    "<div class=\"alert alert-block alert-info\">\n",
    "    \n",
    "### <font >Task 8:</font>\n",
    "Attempt to read in the file 'deviousHeaders.csv' (located in the 'STUFF' folder) and see what happens... If you start to panic because there is an error message, I suggest that you <b>read the paragraph above</b>\n",
    "\n",
    "<div/>"
   ]
  },
  {
   "cell_type": "code",
   "execution_count": null,
   "metadata": {},
   "outputs": [],
   "source": [
    "#Task 8 answer:\n"
   ]
  },
  {
   "cell_type": "markdown",
   "metadata": {},
   "source": [
    "To see why this has failed we need to look at the file. We can open it from within this Jupyter notebook by clicking on 'File>Open...' (this will open a new browser tab), navigating to the 'STUFF' folder, and clicking on 'deviousHeaders.csv'. We can see that the first row of this file contains non-numerical data (the column headers Wavenumber and Intensity). In order for numpy to open this file we need to include the optional argument ```skiprows=n``` in the ``loadtext()`` command, which tells numpy not to import the first <i>n</i> rows of the input file."
   ]
  },
  {
   "cell_type": "markdown",
   "metadata": {},
   "source": [
    "<div class=\"alert alert-block alert-info\">\n",
    "    \n",
    "### <font >Task 9:</font>\n",
    "Repeat task 8, but include the optional argument ```skiprows=1```. This line will tell numpy to ignore the first row which contains the problematic non-numerical data.\n",
    "\n",
    "Plot the data as in task 7.\n",
    "    \n",
    "<div/>"
   ]
  },
  {
   "cell_type": "code",
   "execution_count": null,
   "metadata": {},
   "outputs": [],
   "source": [
    "#Task 9 answer:\n"
   ]
  },
  {
   "cell_type": "markdown",
   "metadata": {},
   "source": [
    "# 3. Advanced Plotting\n",
    "The basic plotting introduced above is excellent for rapidly producing graphs; however, it has limited functionality. To make our plots more customisable we need to use a slightly more complex set of instructions. This advanced plotting makes use of an <i>object-oriented approach</i>, and requires us to think about a plot in terms of a <i>figure object</i> to which we attach a series of <i>axes objects</i>. Modification of these axes objects (which include things like the plots themselves, axis labels, gridlines, <i>etc.</i>) then allows us to customise the figures to our liking.\n",
    "\n",
    "An example of what can be achieved using this object oriented approach is shown below (taken from C Hill, <i>Learning Scientific Programming With Python</i>, Cambridge University Press, Cambridge, 2015.)"
   ]
  },
  {
   "cell_type": "code",
   "execution_count": null,
   "metadata": {},
   "outputs": [],
   "source": [
    "# wavelength range, nm\n",
    "lmin,lmax=250,1000\n",
    "x=np.linspace(lmin,lmax,1000)\n",
    "#A wave with smoothly increasing wavelength\n",
    "wv=(np.sin(10*np.pi*x / (lmax+lmin-x)))[::-1]\n",
    "\n",
    "#Set up the plot elements\n",
    "fig,ax=plt.subplots(figsize=(12,8))\n",
    "\n",
    "ax.patch.set_facecolor('black')\n",
    "ax.plot(x,wv,c='w',lw=2)\n",
    "ax.set_xlim(250,1000)\n",
    "ax.set_ylim(-2,2)\n",
    "\n",
    "#Label and delimit the different regions of the electromagnetic spectrum\n",
    "ax.text(310,1.5,'UV',color='w',fontdict={'fontsize':20})\n",
    "ax.text(530,1.5,'Visible',color='k',fontdict={'fontsize':20})\n",
    "ax.annotate('',(400,1.3),(750,1.3),arrowprops={'arrowstyle':'<|-|>','color':'k','lw':2})\n",
    "ax.text(860,1.5,'IR',color='w',fontdict={'fontsize':20})\n",
    "ax.axvline(400,-2,2,c='w',ls='--')\n",
    "ax.axvline(750,-2,2,c='w',ls='--')\n",
    "\n",
    "#Horizontal \"axis\" across the centre of the wave\n",
    "ax.axhline(c='w')\n",
    "\n",
    "#Remove the y-axis ticks and labels; label the x-axis\n",
    "ax.yaxis.set_visible(False)\n",
    "ax.set_xlabel('$\\lambda\\;/\\mathrm{nm}$',fontsize=18)\n",
    "\n",
    "#Add a title to the figure\n",
    "ax.set_title('The Electromagnetic Spectrum',fontsize=24)\n",
    "\n",
    "#Finally, add some colourful rectangles representing a rainbow in\n",
    "#the visible region of the spectrum\n",
    "\n",
    "#Dictionary mapping of wavelength regions (nm) to approximate RGB values\n",
    "rainbow_rgb={(400,440):'#8b00ff',(440,460):'#4b0082',(460,500):'#0000ff',\n",
    "            (500,570):'#00ff00',(570,590):'#ffff00',(590,620):'#ff7f00',\n",
    "            (620,750):'#ff0000'}\n",
    "for wv_range, rgb in rainbow_rgb.items():\n",
    "    ax.axvspan(*wv_range,color=rgb,ec='none',alpha=0.8)\n",
    "\n",
    "plt.show()"
   ]
  },
  {
   "cell_type": "markdown",
   "metadata": {},
   "source": [
    "The above code box highlights several important points:\n",
    "* The command ```fig,ax=plt.subplots()``` simultaneously creates both a figure object and an axes object.\n",
    "* The figure object is our <i>top-level</i> object, to which all other elements of the plot are attached. We can add an optional argument ```figsize=(width, height)``` to specify the size of the plot (in inches unfortunately), very handy to create png figures of the correct size straight away rather than rescaling them later.\n",
    "* The axes object is the one we use to actually specify the elements of a plot, including the axes, tick-marks, figure labels, plot lines/markers, <i>etc.</i>\n",
    "* Plot elements are added to the axes object using the code ```ax.element```, <i>e.g.</i> ```ax.plot(xdata,ydata)``` is used to plot our data,```ax.text(x-position,y-position,'text')``` creates text in the plot.\n",
    "* Axis limits and labels, <i>etc.</i> can be changed using the ```ax.set_``` command, <i>e.g.</i> ```ax.set_xlim(min,max)``` sets the range of the x-axis, ```ax.set_xlabel('text')``` creates the label axes."
   ]
  },
  {
   "cell_type": "markdown",
   "metadata": {},
   "source": [
    "<div class=\"alert alert-block alert-info\">\n",
    "    \n",
    "### <font >Task 10:</font>\n",
    "\n",
    "Use the advanced plotting method outlined above to create a plots of $y=\\sin^{2}(x)$ and $y=\\sin^{3}(x)$ with the settings outlined below:\n",
    "\n",
    "* Plot these functions over the range $0-4\\pi$. \n",
    "* Set the size of the figure to be 10 inches by 3 inches\n",
    "* Include axis labels and a legend (plot line legends are still defined by adding a ```label``` attribute to the ```plt.plot``` function call, but the legend itself will not appear unless ```legend``` is called on the plot ```Axes``` object - <i>e.g.</i> with an ```ax.legend()``` command).\n",
    "* Add a title to your plot using ```ax.set_title(YourTitle)```.\n",
    "<div/>"
   ]
  },
  {
   "cell_type": "code",
   "execution_count": null,
   "metadata": {},
   "outputs": [],
   "source": [
    "#Task 10 answer:\n"
   ]
  },
  {
   "cell_type": "markdown",
   "metadata": {},
   "source": [
    "## 3.1. Multiple Subplots\n",
    "The advanced plotting approach allows us to create figures with more than one subplot (<i>i.e.</i> more than one ```Axes``` object). To do this, we need to add two new arguments, ```nrows``` and ```ncols``` to ```plt.subplots()```.  For example, a figure consisting of 2 rows of three columns (6 subplots in total) can be created using the following code:"
   ]
  },
  {
   "cell_type": "code",
   "execution_count": null,
   "metadata": {},
   "outputs": [],
   "source": [
    "#Multiple subplot example\n",
    "#Define our x-axis range\n",
    "x=np.linspace(0,np.pi,200)\n",
    "\n",
    "#create six plots\n",
    "y1=np.cos(x)\n",
    "y2=np.cos(2*x)\n",
    "y3=np.cos(3*x)\n",
    "y4=np.cos(4*x)\n",
    "y5=np.cos(5*x)\n",
    "y6=np.cos(6*x)\n",
    "\n",
    "#create six axes objects, and arrange them as a 3x2 array\n",
    "fig,axes=plt.subplots(nrows=2,ncols=3,figsize=(10,6))\n",
    "\n",
    "#Assign names to each of the axes objects\n",
    "ax1=axes[0,0] #top left subplot - remember that python always counts from 0\n",
    "ax2=axes[0,1] #top middle subplot\n",
    "ax3=axes[0,2] #top right subplot\n",
    "ax4=axes[1,0] #bottom left subplot\n",
    "ax5=axes[1,1] #bottom middle subplot\n",
    "ax6=axes[1,2] #bottom right subplot\n",
    "\n",
    "#Plot all the things!\n",
    "ax1.plot(x,y1,label='$\\cos(x)$') #generates a plot of x vs y1 within the object 'ax1'\n",
    "ax2.plot(x,y2,label='$\\cos(2x)$')\n",
    "ax3.plot(x,y3,label='$\\cos(3x)$')\n",
    "ax4.plot(x,y4,label='$\\cos(4x)$')\n",
    "ax5.plot(x,y5,label='$\\cos(5x)$')\n",
    "ax6.plot(x,y6,label='$\\cos(6x)$')\n",
    "\n",
    "#make space for the plot legends\n",
    "ax1.set_ylim(-1.5,1.5)\n",
    "ax2.set_ylim(-1.5,1.5)\n",
    "ax3.set_ylim(-1.5,1.5)\n",
    "ax4.set_ylim(-1.5,1.5)\n",
    "ax5.set_ylim(-1.5,1.5)\n",
    "ax6.set_ylim(-1.5,1.5)\n",
    "\n",
    "#Add legends to each of the plots. Optional argument 'frameon=False' removes the border (because it looks naff),\n",
    "#and 'loc=(xposition,yposition)' allows us to control where the legend goes.\n",
    "ax1.legend(frameon=False,loc=(0.05,0.85))\n",
    "ax2.legend(frameon=False,loc=(0.05,0.85))\n",
    "ax3.legend(frameon=False,loc=(0.05,0.85))\n",
    "ax4.legend(frameon=False,loc=(0.05,0.85))\n",
    "ax5.legend(frameon=False,loc=(0.05,0.85))\n",
    "ax6.legend(frameon=False,loc=(0.05,0.85))\n",
    "\n",
    "plt.show()"
   ]
  },
  {
   "cell_type": "markdown",
   "metadata": {},
   "source": [
    "Typing all of the above out is extremely tedious! We could, of course, have used loops to generate the above figure using far less code. Since all six plots have exactly the same plot ranges, we can further improve the appearance of this figure by allowing the x- and y-axes to be shared amongst the plots. This has the effect of only creating x-tick labels for the bottom row of subplots, and y-tick labels for the left hand column:"
   ]
  },
  {
   "cell_type": "code",
   "execution_count": null,
   "metadata": {},
   "outputs": [],
   "source": [
    "#Multiple subplot example 2 - Huzzah for loops\n",
    "\n",
    "#Define our x-axis range\n",
    "x=np.linspace(0,np.pi,200)\n",
    "\n",
    "#Create our 2x3 array of subplots. 'sharex' and 'sharey' instruct Matplotlib to share both the x- and y-axes \n",
    "nrows=2\n",
    "ncols=3\n",
    "fig,axes=plt.subplots(nrows,ncols,figsize=(10,6),sharex=True,sharey=True)\n",
    "\n",
    "#Loop over the columns of the first row, then the columns of the second row\n",
    "for i in range(nrows):\n",
    "    for j in range(ncols):\n",
    "        #1st row (defined by i=0) will contain the plots with n-values of 1-3 (=j+1)\n",
    "        if i==0:\n",
    "            n=j+1\n",
    "            \n",
    "        #2nd row defined by i=1, has n-values of 4-6 (=j+4)\n",
    "        elif i==1:\n",
    "            n=j+4\n",
    "            \n",
    "        #reference each axes object in turn within the loop, and plots the appropriate functions\n",
    "        ax=axes[i,j]\n",
    "        ax.plot(x,np.cos(n*x),label='$\\cos({}x)$'.format(n))\n",
    "        ax.set_ylim(-1.5,1.5)\n",
    "        ax.legend(frameon=False,loc=(0.05,0.85))\n",
    "       \n",
    "fig.tight_layout() #Stops the subplots running into each other\n",
    "\n",
    "plt.show()"
   ]
  },
  {
   "cell_type": "markdown",
   "metadata": {},
   "source": [
    "<div class=\"alert alert-block alert-info\">\n",
    "    \n",
    "### <font >Task 11:</font>\n",
    "\n",
    "Create a 2$\\times$2 array of subplots, and plot the first four members of the series $y=x^{n}\\sin(x)$ over the range $x=-3\\pi$ to $x=3\\pi$. Make sure to include plot legends. See if you can incorporate the following features into your code:\n",
    "* Create the axes objects and plots using loop structures\n",
    "* Share the $x-$ and $y-$ axes amongst the plots. <b>Hint:</b> you will need to normalise the plots (i.e. scale the maximum value for y in each case to 1) to make this work properly.\n",
    " \n",
    "<div/>"
   ]
  },
  {
   "cell_type": "code",
   "execution_count": null,
   "metadata": {},
   "outputs": [],
   "source": [
    "#Task 11 answer:\n"
   ]
  },
  {
   "cell_type": "markdown",
   "metadata": {},
   "source": [
    "So far we have focussed on the situation where each of the subplots have identical plot ranges. This does not have to be the case. We can use the ```axes.set_xlim()``` and ```axes.set_ylim()``` commands to independently scale the axis ranges. This can be useful if we want to focus on a region of interest. For example, we can easily 'zoom in' on the central peak of the sinc function (where $\\textrm{sinc}(x)=\\frac{\\sin(x)}{x}$):"
   ]
  },
  {
   "cell_type": "code",
   "execution_count": null,
   "metadata": {},
   "outputs": [],
   "source": [
    "#Different plot limits example:\n",
    "x=np.linspace(-10,10,200)\n",
    "y=np.sinc(x)\n",
    "\n",
    "#create a 2x1 array of plots and create two axes objects\n",
    "fig,axes=plt.subplots(nrows=2,ncols=1,figsize=(10,6))\n",
    "ax0=axes[0] #only one index array is required, since the column value has to be 0\n",
    "ax1=axes[1] #and attempting to specify one will generate an error - give it a go\n",
    "\n",
    "#plot the function over the full x-axis range\n",
    "ax0.plot(x,y,label=('$\\\\dfrac{\\sin(x)}{x}$'))\n",
    "\n",
    "#'zoom in' on the central peak\n",
    "ax1.plot(x,y,label=('$\\\\dfrac{\\sin(x)}{x}$'))\n",
    "ax1.set_xlim(-3,3)\n",
    "\n",
    "ax0.legend(frameon=False,loc=(0.7,0.7))\n",
    "ax1.legend(frameon=False,loc=(0.7,0.7))\n",
    "plt.show()"
   ]
  },
  {
   "cell_type": "markdown",
   "metadata": {},
   "source": [
    "# 4. Further information\n",
    "This notebook has barely scratched the surface of the full capabilities of Matplotlib. In addition to the simple plots highlighted above, we can also use matplotlib to generate several other types of graph. Further examples (and the code used to generate them) can be found in the [Matplotlib gallery](https://matplotlib.org/gallery.html).\n",
    "## 4.1. Scatter plots"
   ]
  },
  {
   "cell_type": "code",
   "execution_count": null,
   "metadata": {},
   "outputs": [],
   "source": [
    "#Scatter plot example\n",
    "#Generate random x and y data\n",
    "x = np.random.random(300)\n",
    "y = np.random.random(300)\n",
    "\n",
    "#randomise the size of the scatter points\n",
    "scale=np.random.random(300)*2000\n",
    "\n",
    "#create the plot\n",
    "fig,ax=plt.subplots(figsize=(8,8))\n",
    "colours=range(len(x)) #Give each point an arbitrary colour\n",
    "ax.scatter(x,y,s=scale,c=colours,alpha=0.4)\n",
    "ax.set_xlabel('x')\n",
    "ax.set_ylabel('y')\n",
    "\n",
    "plt.show()"
   ]
  },
  {
   "cell_type": "markdown",
   "metadata": {},
   "source": [
    "## 4.2. Contour plots"
   ]
  },
  {
   "cell_type": "code",
   "execution_count": null,
   "metadata": {},
   "outputs": [],
   "source": [
    "#Taken from C Hill, Learning Scientific Programming With Python, Cambridge University Press, Cambridge, 2015.\n",
    "\n",
    "#The electrostatic potential of a point dipole\n",
    "#Dipole charge (C), Permittivity of free space (F.m-1)\n",
    "q=1.602e-19\n",
    "eps0=8.854e-12\n",
    "\n",
    "#Dipole +q, -q distance (m) and a convenient combination of parameters\n",
    "d=1.e-12\n",
    "k=1/4/np.pi/eps0*q*d\n",
    "\n",
    "#Cartesian axis system with origin at the dipole (m)\n",
    "X=np.linspace(-5e-11,5e-11,1000)\n",
    "Y=X.copy()\n",
    "X,Y=np.meshgrid(X,Y)\n",
    "\n",
    "#Dipole electrostatic potential (V), using point dipole approximation\n",
    "Phi=k*X/np.hypot(X,Y)**3\n",
    "\n",
    "fig,ax=plt.subplots(figsize=(8,8))\n",
    "#Draw contours at values of Phi given by levels\n",
    "levels=np.array([10**pw for pw in np.linspace(0,5,20)])\n",
    "levels=list(np.sort(-levels))+list(levels)\n",
    "#Monochrome plot of potential\n",
    "ax.contour(X,Y,Phi,levels=levels,colors='k',linewidths=2)\n",
    "plt.show()"
   ]
  },
  {
   "cell_type": "markdown",
   "metadata": {},
   "source": [
    "## 4.3. Heatmaps"
   ]
  },
  {
   "cell_type": "code",
   "execution_count": null,
   "metadata": {},
   "outputs": [],
   "source": [
    "#Heatmap of a two-dimensional Gaussian function exp(-(x^2+y^2))\n",
    "import matplotlib.cm as cm\n",
    "\n",
    "x=np.linspace(-2,2,400)\n",
    "y=x.copy()\n",
    "X,Y=np.meshgrid(x,y)\n",
    "Z=np.exp(-(X**2+Y**2))\n",
    "\n",
    "fig,ax=plt.subplots(figsize=(8,8))\n",
    "im=ax.imshow(Z,cmap=cm.hot,extent=[-2,2,-2,2])\n",
    "plt.colorbar(im)\n",
    "plt.show()"
   ]
  },
  {
   "cell_type": "markdown",
   "metadata": {},
   "source": [
    "## 4.4. 3D plots\n",
    "Flashy, but probably of limited use for most applications"
   ]
  },
  {
   "cell_type": "code",
   "execution_count": null,
   "metadata": {},
   "outputs": [],
   "source": [
    "#3D plot of a two-dimensional Gaussian function exp(-(x^2+y^2))\n",
    "#We need to import some more packages for this to work...\n",
    "from mpl_toolkits.mplot3d import Axes3D\n",
    "import matplotlib.cm as cm\n",
    "\n",
    "x=np.linspace(-2,2,400)\n",
    "y=x.copy()\n",
    "X,Y=np.meshgrid(x,y)\n",
    "Z=np.exp(-(X**2+Y**2))\n",
    "\n",
    "fig,ax=plt.subplots(subplot_kw={'projection':'3d'},figsize=(8,8))\n",
    "ax.plot_surface(X,Y,Z,rstride=12,cstride=12,cmap=cm.hot)\n",
    "ax.set_xticks([-2,-1,0,1,2])\n",
    "ax.set_yticks([-2,-1,0,1,2])\n",
    "ax.set_zticks([0,0.5,1])\n",
    "\n",
    "plt.show()"
   ]
  },
  {
   "cell_type": "markdown",
   "metadata": {},
   "source": [
    "# Final Words\n",
    "\n",
    "This workshop has served as a (very) brief introduction to Matplotlib. There are many software packages which let you plot things (including Excel, Origin, and my personal favorite, Igor Pro), and I am certainly not going to claim that Matplotlib is the best - the learning curve is a little too steep and the syntax occasionally a little too convoluted - but if you want a free, operating system agnostic program capable of producing extremely high-quality plots (something Excel is <b>not</b> able to do), it is very hard to beat. \n",
    "\n",
    "There are many things that Matplotlib is capable of doing that we have not had time to cover. As you have already learned, [Stack Overflow](https://stackoverflow.com/) is an excellent place to find answers about Matplotlib and Python in general. If you think you want to do something using Matplotlib and are not sure how to begin, chances are someone else has already asked the question for you!"
   ]
  },
  {
   "cell_type": "code",
   "execution_count": null,
   "metadata": {},
   "outputs": [],
   "source": []
  }
 ],
 "metadata": {
  "kernelspec": {
   "display_name": "Python 3",
   "language": "python",
   "name": "python3"
  },
  "language_info": {
   "codemirror_mode": {
    "name": "ipython",
    "version": 3
   },
   "file_extension": ".py",
   "mimetype": "text/x-python",
   "name": "python",
   "nbconvert_exporter": "python",
   "pygments_lexer": "ipython3",
   "version": "3.6.10"
  }
 },
 "nbformat": 4,
 "nbformat_minor": 2
}
